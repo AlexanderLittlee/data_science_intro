{
 "cells": [
  {
   "cell_type": "code",
   "execution_count": 1,
   "metadata": {},
   "outputs": [],
   "source": [
    "import pandas as pd\n",
    "import numpy as np\n",
    "import pandasql as ps"
   ]
  },
  {
   "cell_type": "code",
   "execution_count": 2,
   "metadata": {},
   "outputs": [],
   "source": [
    "data = {\n",
    "    'Név': ['Anna', 'Béla', 'Cecília', 'Dániel', 'Erika', 'Ferenc'],\n",
    "    'Kor': [20, 21, 22, 20, 19, 22],\n",
    "    'Tanulmányi átlag': [4.5, 3.9, 4.8, 3.4, 4.9, 4.0],\n",
    "    'Lakóhely': ['Budapest', 'Pécs', 'Debrecen', 'Szeged', 'Budapest', 'Győr']\n",
    "}\n",
    "\n",
    "df = pd.DataFrame(data)\n",
    "df.to_csv('diakok.csv')"
   ]
  },
  {
   "cell_type": "markdown",
   "metadata": {},
   "source": [
    "1. Melyik városból vannak a legtöbben a listán?  \n",
    "2. Készíts egy új oszlopot, amely a következőképpen kategorizálja a diákokat tanulmányi átlag alapján:  \n",
    "1-2: Gyenge  \n",
    "2-3: Elégséges  \n",
    "3-4: Közepes  \n",
    "4-5: Jó  \n",
    "5: Kiváló  \n",
    "3. Hány diák kapta a \"Jó\" vagy \"Kiváló\" kategorizációt?  \n",
    "4. Mely diákoknak van a \"név\" oszlopban magánhangzó az utolsó betű helyén?  \n",
    "5. Számítsd ki a diákok korának mediánját!  \n",
    "6. Szűrd le azokat a diákokat, akik 20 év alattiak és tanulmányi átlaguk meghaladja a 4.0-t!  "
   ]
  },
  {
   "cell_type": "code",
   "execution_count": 32,
   "metadata": {},
   "outputs": [
    {
     "name": "stdout",
     "output_type": "stream",
     "text": [
      "Budapest\n"
     ]
    },
    {
     "data": {
      "text/html": [
       "<div>\n",
       "<style scoped>\n",
       "    .dataframe tbody tr th:only-of-type {\n",
       "        vertical-align: middle;\n",
       "    }\n",
       "\n",
       "    .dataframe tbody tr th {\n",
       "        vertical-align: top;\n",
       "    }\n",
       "\n",
       "    .dataframe thead th {\n",
       "        text-align: right;\n",
       "    }\n",
       "</style>\n",
       "<table border=\"1\" class=\"dataframe\">\n",
       "  <thead>\n",
       "    <tr style=\"text-align: right;\">\n",
       "      <th></th>\n",
       "      <th>Név</th>\n",
       "      <th>Kor</th>\n",
       "      <th>Tanulmányi átlag</th>\n",
       "      <th>Lakóhely</th>\n",
       "      <th>Jegy</th>\n",
       "    </tr>\n",
       "  </thead>\n",
       "  <tbody>\n",
       "    <tr>\n",
       "      <th>0</th>\n",
       "      <td>Anna</td>\n",
       "      <td>20</td>\n",
       "      <td>4.5</td>\n",
       "      <td>Budapest</td>\n",
       "      <td>Jó</td>\n",
       "    </tr>\n",
       "    <tr>\n",
       "      <th>1</th>\n",
       "      <td>Béla</td>\n",
       "      <td>21</td>\n",
       "      <td>3.9</td>\n",
       "      <td>Pécs</td>\n",
       "      <td>Közepes</td>\n",
       "    </tr>\n",
       "    <tr>\n",
       "      <th>2</th>\n",
       "      <td>Cecília</td>\n",
       "      <td>22</td>\n",
       "      <td>4.8</td>\n",
       "      <td>Debrecen</td>\n",
       "      <td>Jó</td>\n",
       "    </tr>\n",
       "    <tr>\n",
       "      <th>3</th>\n",
       "      <td>Dániel</td>\n",
       "      <td>20</td>\n",
       "      <td>3.4</td>\n",
       "      <td>Szeged</td>\n",
       "      <td>Közepes</td>\n",
       "    </tr>\n",
       "    <tr>\n",
       "      <th>4</th>\n",
       "      <td>Erika</td>\n",
       "      <td>19</td>\n",
       "      <td>4.9</td>\n",
       "      <td>Budapest</td>\n",
       "      <td>Jó</td>\n",
       "    </tr>\n",
       "    <tr>\n",
       "      <th>5</th>\n",
       "      <td>Ferenc</td>\n",
       "      <td>22</td>\n",
       "      <td>4.0</td>\n",
       "      <td>Győr</td>\n",
       "      <td>Jó</td>\n",
       "    </tr>\n",
       "  </tbody>\n",
       "</table>\n",
       "</div>"
      ],
      "text/plain": [
       "       Név  Kor  Tanulmányi átlag  Lakóhely     Jegy\n",
       "0     Anna   20               4.5  Budapest       Jó\n",
       "1     Béla   21               3.9      Pécs  Közepes\n",
       "2  Cecília   22               4.8  Debrecen       Jó\n",
       "3   Dániel   20               3.4    Szeged  Közepes\n",
       "4    Erika   19               4.9  Budapest       Jó\n",
       "5   Ferenc   22               4.0      Győr       Jó"
      ]
     },
     "execution_count": 32,
     "metadata": {},
     "output_type": "execute_result"
    }
   ],
   "source": [
    "#1. Melyik városból vannak a legtöbben a listán? \n",
    "varos_db = df['Lakóhely'].value_counts()\n",
    "legtobb = varos_db.idxmax()\n",
    "print(legtobb)\n"
   ]
  },
  {
   "cell_type": "code",
   "execution_count": 3,
   "metadata": {},
   "outputs": [
    {
     "data": {
      "text/html": [
       "<div>\n",
       "<style scoped>\n",
       "    .dataframe tbody tr th:only-of-type {\n",
       "        vertical-align: middle;\n",
       "    }\n",
       "\n",
       "    .dataframe tbody tr th {\n",
       "        vertical-align: top;\n",
       "    }\n",
       "\n",
       "    .dataframe thead th {\n",
       "        text-align: right;\n",
       "    }\n",
       "</style>\n",
       "<table border=\"1\" class=\"dataframe\">\n",
       "  <thead>\n",
       "    <tr style=\"text-align: right;\">\n",
       "      <th></th>\n",
       "      <th>Név</th>\n",
       "      <th>Kor</th>\n",
       "      <th>Tanulmányi átlag</th>\n",
       "      <th>Lakóhely</th>\n",
       "      <th>Jegy</th>\n",
       "    </tr>\n",
       "  </thead>\n",
       "  <tbody>\n",
       "    <tr>\n",
       "      <th>0</th>\n",
       "      <td>Anna</td>\n",
       "      <td>20</td>\n",
       "      <td>4.5</td>\n",
       "      <td>Budapest</td>\n",
       "      <td>Jó</td>\n",
       "    </tr>\n",
       "    <tr>\n",
       "      <th>1</th>\n",
       "      <td>Béla</td>\n",
       "      <td>21</td>\n",
       "      <td>3.9</td>\n",
       "      <td>Pécs</td>\n",
       "      <td>Közepes</td>\n",
       "    </tr>\n",
       "    <tr>\n",
       "      <th>2</th>\n",
       "      <td>Cecília</td>\n",
       "      <td>22</td>\n",
       "      <td>4.8</td>\n",
       "      <td>Debrecen</td>\n",
       "      <td>Jó</td>\n",
       "    </tr>\n",
       "    <tr>\n",
       "      <th>3</th>\n",
       "      <td>Dániel</td>\n",
       "      <td>20</td>\n",
       "      <td>3.4</td>\n",
       "      <td>Szeged</td>\n",
       "      <td>Közepes</td>\n",
       "    </tr>\n",
       "    <tr>\n",
       "      <th>4</th>\n",
       "      <td>Erika</td>\n",
       "      <td>19</td>\n",
       "      <td>4.9</td>\n",
       "      <td>Budapest</td>\n",
       "      <td>Jó</td>\n",
       "    </tr>\n",
       "    <tr>\n",
       "      <th>5</th>\n",
       "      <td>Ferenc</td>\n",
       "      <td>22</td>\n",
       "      <td>4.0</td>\n",
       "      <td>Győr</td>\n",
       "      <td>Jó</td>\n",
       "    </tr>\n",
       "  </tbody>\n",
       "</table>\n",
       "</div>"
      ],
      "text/plain": [
       "       Név  Kor  Tanulmányi átlag  Lakóhely     Jegy\n",
       "0     Anna   20               4.5  Budapest       Jó\n",
       "1     Béla   21               3.9      Pécs  Közepes\n",
       "2  Cecília   22               4.8  Debrecen       Jó\n",
       "3   Dániel   20               3.4    Szeged  Közepes\n",
       "4    Erika   19               4.9  Budapest       Jó\n",
       "5   Ferenc   22               4.0      Győr       Jó"
      ]
     },
     "execution_count": 3,
     "metadata": {},
     "output_type": "execute_result"
    }
   ],
   "source": [
    "#2. Készíts egy új oszlopot, amely a következőképpen kategorizálja a diákokat tanulmányi átlag alapján:  \n",
    "#1-2: Gyenge  \n",
    "#2-3: Elégséges  \n",
    "#3-4: Közepes  \n",
    "#4-5: Jó \n",
    "#5: Kiváló\n",
    "\n",
    "feltetelek = [(df['Tanulmányi átlag'] <2),(df['Tanulmányi átlag'] <3), (df['Tanulmányi átlag'] <4), (df['Tanulmányi átlag'] <5), (df['Tanulmányi átlag'] == 5)]\n",
    "igen_eseten = ['Gyenge','Elégséges','Közepes','Jó','Kiváló']\n",
    "df['Jegy'] = np.select(feltetelek,igen_eseten)\n",
    "df.head(7)"
   ]
  },
  {
   "cell_type": "code",
   "execution_count": 5,
   "metadata": {},
   "outputs": [
    {
     "name": "stdout",
     "output_type": "stream",
     "text": [
      "4\n"
     ]
    }
   ],
   "source": [
    "#3. Hány diák kapta a \"Jó\" vagy \"Kiváló\" kategorizációt?  \n",
    "\n",
    "jo_kivalo_sum = df[df['Jegy'].isin(['Jó','Kiváló'])]\n",
    "db = len(jo_kivalo_sum)\n",
    "print(db)"
   ]
  },
  {
   "cell_type": "code",
   "execution_count": 7,
   "metadata": {},
   "outputs": [
    {
     "data": {
      "text/plain": [
       "0       Anna\n",
       "1       Béla\n",
       "2    Cecília\n",
       "4      Erika\n",
       "Name: Név, dtype: object"
      ]
     },
     "execution_count": 7,
     "metadata": {},
     "output_type": "execute_result"
    }
   ],
   "source": [
    "#4. Mely diákoknak van a \"név\" oszlopban magánhangzó az utolsó betű helyén?  \n",
    "\n",
    "mh = ['a', 'á', 'e', 'é', 'i', 'í', 'o', 'ó', 'ö', 'ő', 'u', 'ú', 'ü', 'ű']\n",
    "df[df['Név'].str[-1].str.lower().isin(mh)]['Név']"
   ]
  },
  {
   "cell_type": "code",
   "execution_count": 39,
   "metadata": {},
   "outputs": [
    {
     "name": "stdout",
     "output_type": "stream",
     "text": [
      "20.5\n"
     ]
    }
   ],
   "source": [
    "#5. Számítsd ki a diákok korának mediánját!  \n",
    "diak_median = df['Kor'].median()\n",
    "print(diak_median)"
   ]
  },
  {
   "cell_type": "code",
   "execution_count": 13,
   "metadata": {},
   "outputs": [
    {
     "name": "stdout",
     "output_type": "stream",
     "text": [
      "     Név  Tanulmányi átlag\n",
      "4  Erika               4.9\n"
     ]
    }
   ],
   "source": [
    "#6. Szűrd le azokat a diákokat, akik 20 év alattiak és tanulmányi átlaguk meghaladja a 4.0-t!  \n",
    "\n",
    "feltetel = df[(df['Kor'] < 20) & (df['Tanulmányi átlag'] > 4)][['Név','Tanulmányi átlag']]\n",
    "\n",
    "\n",
    "print(feltetel)"
   ]
  }
 ],
 "metadata": {
  "kernelspec": {
   "display_name": "Python 3",
   "language": "python",
   "name": "python3"
  },
  "language_info": {
   "codemirror_mode": {
    "name": "ipython",
    "version": 3
   },
   "file_extension": ".py",
   "mimetype": "text/x-python",
   "name": "python",
   "nbconvert_exporter": "python",
   "pygments_lexer": "ipython3",
   "version": "3.11.5"
  },
  "orig_nbformat": 4
 },
 "nbformat": 4,
 "nbformat_minor": 2
}
