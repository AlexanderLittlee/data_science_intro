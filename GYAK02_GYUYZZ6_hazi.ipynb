{
 "cells": [
  {
   "cell_type": "code",
   "execution_count": 4,
   "metadata": {},
   "outputs": [],
   "source": [
    "import pandas as pd\n",
    "import numpy as np\n",
    "import pandasql as ps"
   ]
  },
  {
   "cell_type": "code",
   "execution_count": 5,
   "metadata": {},
   "outputs": [],
   "source": [
    "data = {\n",
    "    'Név': ['Anna', 'Béla', 'Cecília', 'Dániel', 'Erika', 'Ferenc'],\n",
    "    'Kor': [20, 21, 22, 20, 19, 22],\n",
    "    'Tanulmányi átlag': [4.5, 3.9, 4.8, 3.4, 4.9, 4.0],\n",
    "    'Lakóhely': ['Budapest', 'Pécs', 'Debrecen', 'Szeged', 'Budapest', 'Győr']\n",
    "}\n",
    "\n",
    "df = pd.DataFrame(data)\n",
    "df.to_csv('diakok.csv')"
   ]
  },
  {
   "cell_type": "code",
   "execution_count": 12,
   "metadata": {},
   "outputs": [
    {
     "data": {
      "text/plain": [
       "'Budapest'"
      ]
     },
     "execution_count": 12,
     "metadata": {},
     "output_type": "execute_result"
    }
   ],
   "source": [
    "#1. Melyik városból vannak a legtöbben a listán?\n",
    "df['Lakóhely'].value_counts().idxmax()"
   ]
  },
  {
   "cell_type": "code",
   "execution_count": 63,
   "metadata": {},
   "outputs": [
    {
     "data": {
      "text/html": [
       "<div>\n",
       "<style scoped>\n",
       "    .dataframe tbody tr th:only-of-type {\n",
       "        vertical-align: middle;\n",
       "    }\n",
       "\n",
       "    .dataframe tbody tr th {\n",
       "        vertical-align: top;\n",
       "    }\n",
       "\n",
       "    .dataframe thead th {\n",
       "        text-align: right;\n",
       "    }\n",
       "</style>\n",
       "<table border=\"1\" class=\"dataframe\">\n",
       "  <thead>\n",
       "    <tr style=\"text-align: right;\">\n",
       "      <th></th>\n",
       "      <th>Név</th>\n",
       "      <th>Kor</th>\n",
       "      <th>Tanulmányi átlag</th>\n",
       "      <th>Lakóhely</th>\n",
       "      <th>Átlag</th>\n",
       "    </tr>\n",
       "  </thead>\n",
       "  <tbody>\n",
       "    <tr>\n",
       "      <th>0</th>\n",
       "      <td>Anna</td>\n",
       "      <td>20</td>\n",
       "      <td>4.5</td>\n",
       "      <td>Budapest</td>\n",
       "      <td>jó</td>\n",
       "    </tr>\n",
       "    <tr>\n",
       "      <th>1</th>\n",
       "      <td>Béla</td>\n",
       "      <td>21</td>\n",
       "      <td>3.9</td>\n",
       "      <td>Pécs</td>\n",
       "      <td>közepes</td>\n",
       "    </tr>\n",
       "    <tr>\n",
       "      <th>2</th>\n",
       "      <td>Cecília</td>\n",
       "      <td>22</td>\n",
       "      <td>4.8</td>\n",
       "      <td>Debrecen</td>\n",
       "      <td>jó</td>\n",
       "    </tr>\n",
       "    <tr>\n",
       "      <th>3</th>\n",
       "      <td>Dániel</td>\n",
       "      <td>20</td>\n",
       "      <td>3.4</td>\n",
       "      <td>Szeged</td>\n",
       "      <td>közepes</td>\n",
       "    </tr>\n",
       "    <tr>\n",
       "      <th>4</th>\n",
       "      <td>Erika</td>\n",
       "      <td>19</td>\n",
       "      <td>4.9</td>\n",
       "      <td>Budapest</td>\n",
       "      <td>jó</td>\n",
       "    </tr>\n",
       "    <tr>\n",
       "      <th>5</th>\n",
       "      <td>Ferenc</td>\n",
       "      <td>22</td>\n",
       "      <td>4.0</td>\n",
       "      <td>Győr</td>\n",
       "      <td>közepes</td>\n",
       "    </tr>\n",
       "  </tbody>\n",
       "</table>\n",
       "</div>"
      ],
      "text/plain": [
       "       Név  Kor  Tanulmányi átlag  Lakóhely    Átlag\n",
       "0     Anna   20               4.5  Budapest       jó\n",
       "1     Béla   21               3.9      Pécs  közepes\n",
       "2  Cecília   22               4.8  Debrecen       jó\n",
       "3   Dániel   20               3.4    Szeged  közepes\n",
       "4    Erika   19               4.9  Budapest       jó\n",
       "5   Ferenc   22               4.0      Győr  közepes"
      ]
     },
     "execution_count": 63,
     "metadata": {},
     "output_type": "execute_result"
    }
   ],
   "source": [
    "#2. Készíts egy új oszlopot, amely a következőképpen kategorizálja a diákokat tanulmányi átlag alapján:\n",
    "\n",
    "df['Átlag'] = pd.cut(df['Tanulmányi átlag'], bins=[0,2,3,4,5,6], labels=['gyenge', 'elégséges', 'közepes', 'jó', 'kiváló'])\n",
    "df"
   ]
  },
  {
   "cell_type": "code",
   "execution_count": 75,
   "metadata": {},
   "outputs": [
    {
     "data": {
      "text/plain": [
       "<bound method DataFrame.count of        Név  Kor  Tanulmányi átlag  Lakóhely Átlag\n",
       "0     Anna   20               4.5  Budapest    jó\n",
       "2  Cecília   22               4.8  Debrecen    jó\n",
       "4    Erika   19               4.9  Budapest    jó>"
      ]
     },
     "execution_count": 75,
     "metadata": {},
     "output_type": "execute_result"
    }
   ],
   "source": [
    "#3. Hány diák kapta a \"Jó\" vagy \"Kiváló\" kategorizációt?  \n",
    "df[(df['Átlag'] == 'jó') | (df['Átlag'] == 'kiváló')].count"
   ]
  },
  {
   "cell_type": "code",
   "execution_count": 80,
   "metadata": {},
   "outputs": [
    {
     "data": {
      "text/html": [
       "<div>\n",
       "<style scoped>\n",
       "    .dataframe tbody tr th:only-of-type {\n",
       "        vertical-align: middle;\n",
       "    }\n",
       "\n",
       "    .dataframe tbody tr th {\n",
       "        vertical-align: top;\n",
       "    }\n",
       "\n",
       "    .dataframe thead th {\n",
       "        text-align: right;\n",
       "    }\n",
       "</style>\n",
       "<table border=\"1\" class=\"dataframe\">\n",
       "  <thead>\n",
       "    <tr style=\"text-align: right;\">\n",
       "      <th></th>\n",
       "      <th>Név</th>\n",
       "      <th>Kor</th>\n",
       "      <th>Tanulmányi átlag</th>\n",
       "      <th>Lakóhely</th>\n",
       "      <th>Átlag</th>\n",
       "    </tr>\n",
       "  </thead>\n",
       "  <tbody>\n",
       "    <tr>\n",
       "      <th>0</th>\n",
       "      <td>Anna</td>\n",
       "      <td>20</td>\n",
       "      <td>4.5</td>\n",
       "      <td>Budapest</td>\n",
       "      <td>jó</td>\n",
       "    </tr>\n",
       "    <tr>\n",
       "      <th>1</th>\n",
       "      <td>Béla</td>\n",
       "      <td>21</td>\n",
       "      <td>3.9</td>\n",
       "      <td>Pécs</td>\n",
       "      <td>közepes</td>\n",
       "    </tr>\n",
       "    <tr>\n",
       "      <th>2</th>\n",
       "      <td>Cecília</td>\n",
       "      <td>22</td>\n",
       "      <td>4.8</td>\n",
       "      <td>Debrecen</td>\n",
       "      <td>jó</td>\n",
       "    </tr>\n",
       "    <tr>\n",
       "      <th>4</th>\n",
       "      <td>Erika</td>\n",
       "      <td>19</td>\n",
       "      <td>4.9</td>\n",
       "      <td>Budapest</td>\n",
       "      <td>jó</td>\n",
       "    </tr>\n",
       "  </tbody>\n",
       "</table>\n",
       "</div>"
      ],
      "text/plain": [
       "       Név  Kor  Tanulmányi átlag  Lakóhely    Átlag\n",
       "0     Anna   20               4.5  Budapest       jó\n",
       "1     Béla   21               3.9      Pécs  közepes\n",
       "2  Cecília   22               4.8  Debrecen       jó\n",
       "4    Erika   19               4.9  Budapest       jó"
      ]
     },
     "execution_count": 80,
     "metadata": {},
     "output_type": "execute_result"
    }
   ],
   "source": [
    "#4. Mely diákoknak van a \"név\" oszlopban magánhangzó az utolsó betű helyén?\n",
    "maganhangzok = ['a', 'á', 'e', 'é', 'i', 'í', 'o', 'ó', 'ö', 'ő', 'u', 'ú', 'ü', 'ű']\n",
    "df[df['Név'].str[-1].str.lower().isin(maganhangzok)]"
   ]
  },
  {
   "cell_type": "code",
   "execution_count": 81,
   "metadata": {},
   "outputs": [
    {
     "data": {
      "text/plain": [
       "20.5"
      ]
     },
     "execution_count": 81,
     "metadata": {},
     "output_type": "execute_result"
    }
   ],
   "source": [
    "#5. Számítsd ki a diákok korának mediánját!\n",
    "df['Kor'].median()"
   ]
  },
  {
   "cell_type": "code",
   "execution_count": 82,
   "metadata": {},
   "outputs": [
    {
     "data": {
      "text/html": [
       "<div>\n",
       "<style scoped>\n",
       "    .dataframe tbody tr th:only-of-type {\n",
       "        vertical-align: middle;\n",
       "    }\n",
       "\n",
       "    .dataframe tbody tr th {\n",
       "        vertical-align: top;\n",
       "    }\n",
       "\n",
       "    .dataframe thead th {\n",
       "        text-align: right;\n",
       "    }\n",
       "</style>\n",
       "<table border=\"1\" class=\"dataframe\">\n",
       "  <thead>\n",
       "    <tr style=\"text-align: right;\">\n",
       "      <th></th>\n",
       "      <th>Név</th>\n",
       "      <th>Kor</th>\n",
       "      <th>Tanulmányi átlag</th>\n",
       "      <th>Lakóhely</th>\n",
       "      <th>Átlag</th>\n",
       "    </tr>\n",
       "  </thead>\n",
       "  <tbody>\n",
       "    <tr>\n",
       "      <th>4</th>\n",
       "      <td>Erika</td>\n",
       "      <td>19</td>\n",
       "      <td>4.9</td>\n",
       "      <td>Budapest</td>\n",
       "      <td>jó</td>\n",
       "    </tr>\n",
       "  </tbody>\n",
       "</table>\n",
       "</div>"
      ],
      "text/plain": [
       "     Név  Kor  Tanulmányi átlag  Lakóhely Átlag\n",
       "4  Erika   19               4.9  Budapest    jó"
      ]
     },
     "execution_count": 82,
     "metadata": {},
     "output_type": "execute_result"
    }
   ],
   "source": [
    "#6. Szűrd le azokat a diákokat, akik 20 év alattiak és tanulmányi átlaguk meghaladja a 4.0-t!\n",
    "df[(df['Kor'] < 20) & (df['Tanulmányi átlag'] > 4)]"
   ]
  },
  {
   "cell_type": "markdown",
   "metadata": {},
   "source": [
    "#1. Melyik városból vannak a legtöbben a listán?  \n",
    "#2. Készíts egy új oszlopot, amely a következőképpen kategorizálja a diákokat tanulmányi átlag alapján:  \n",
    "#1-2: Gyenge  \n",
    "#2-3: Elégséges  \n",
    "#3-4: Közepes  \n",
    "#4-5: Jó  \n",
    "#5: Kiváló  \n",
    "#3. Hány diák kapta a \"Jó\" vagy \"Kiváló\" kategorizációt?  \n",
    "#4. Mely diákoknak van a \"név\" oszlopban magánhangzó az utolsó betű helyén?  \n",
    "#5. Számítsd ki a diákok korának mediánját!  \n",
    "#6. Szűrd le azokat a diákokat, akik 20 év alattiak és tanulmányi átlaguk meghaladja a 4.0-t!  "
   ]
  }
 ],
 "metadata": {
  "kernelspec": {
   "display_name": "Python 3",
   "language": "python",
   "name": "python3"
  },
  "language_info": {
   "codemirror_mode": {
    "name": "ipython",
    "version": 3
   },
   "file_extension": ".py",
   "mimetype": "text/x-python",
   "name": "python",
   "nbconvert_exporter": "python",
   "pygments_lexer": "ipython3",
   "version": "3.9.0"
  },
  "orig_nbformat": 4
 },
 "nbformat": 4,
 "nbformat_minor": 2
}
