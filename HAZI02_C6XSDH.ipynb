{
 "cells": [
  {
   "cell_type": "code",
   "execution_count": 1,
   "metadata": {},
   "outputs": [],
   "source": [
    "import numpy as np"
   ]
  },
  {
   "cell_type": "code",
   "execution_count": 2,
   "metadata": {},
   "outputs": [
    {
     "data": {
      "text/plain": [
       "array([[2, 1],\n",
       "       [4, 3]])"
      ]
     },
     "execution_count": 2,
     "metadata": {},
     "output_type": "execute_result"
    }
   ],
   "source": [
    "# Írj egy olyan fügvényt, ami megfordítja egy 2dimenziós array oszlopait. Bemenetként egy array-t vár.\n",
    "# Be: [[1,2],[3,4]]\n",
    "# Ki: [[2,1],[4,3]]\n",
    "# column_swap()\n",
    "\n",
    "def column_swap(in_array: np.array):\n",
    "    in_array[:, [1,0]] = in_array[:, [0,1]]\n",
    "    \n",
    "\n",
    "ar1 = np.array([[1,2],[3,4]])\n",
    "column_swap(ar1)\n",
    "ar1"
   ]
  },
  {
   "cell_type": "code",
   "execution_count": 3,
   "metadata": {},
   "outputs": [
    {
     "data": {
      "text/plain": [
       "array([1])"
      ]
     },
     "execution_count": 3,
     "metadata": {},
     "output_type": "execute_result"
    }
   ],
   "source": [
    "# Készíts egy olyan függvényt ami összehasonlít két array-t és visszaadja egy array-ben, hogy hol egyenlőek \n",
    "# Pl Be: [7,8,9], [9,8,7] \n",
    "# Ki: [1]\n",
    "# compare_two_array()\n",
    "# egyenlő elemszámúakra kell csak hogy működjön\n",
    "\n",
    "def compare_two_array(in_ar1 : np.array, in_ar2 : np.array ):\n",
    "    out_array = np.arange(len(in_ar1))[in_ar1==in_ar2]\n",
    "    return out_array\n",
    "\n",
    "ar1 = np.array([7,8,9])\n",
    "ar2 = np.array([9,8,7])\n",
    "ar3 = compare_two_array(ar1,ar2)\n",
    "ar3"
   ]
  },
  {
   "cell_type": "code",
   "execution_count": 4,
   "metadata": {},
   "outputs": [
    {
     "name": "stdout",
     "output_type": "stream",
     "text": [
      "sor: 3, oszlop: 1, melyseg: 1\n",
      "sor: 2, oszlop: 3, melyseg: 1\n",
      "sor: 2, oszlop: 2 , melyseg: 3\n"
     ]
    }
   ],
   "source": [
    "# Készíts egy olyan függvényt, ami vissza adja string-ként a megadott array dimenzióit:\n",
    "# Be: [[1,2,3], [4,5,6]]\n",
    "# Ki: \"sor: 2, oszlop: 3, melyseg: 1\"\n",
    "# get_array_shape()\n",
    "# 3D-vel még műküdnie kell!, \n",
    "\n",
    "def get_array_shape(in_array : np.array):\n",
    "    shape = in_array.shape\n",
    "    dimension=len(shape)\n",
    "    match dimension:\n",
    "        case 1:\n",
    "            print(f\"sor: {shape[0]}, oszlop: 1, melyseg: 1\")\n",
    "        case 2:\n",
    "            print(f\"sor: {shape[0]}, oszlop: {shape[1]}, melyseg: 1\")\n",
    "        case 3:\n",
    "            print(f\"sor: {shape[0]}, oszlop: {shape[1]} , melyseg: {shape[2]}\")\n",
    "\n",
    "\n",
    "ar1 = np.array([1,2,3])\n",
    "ar2 = np.array([[1,2,3], [4,5,6]])\n",
    "ar3 = np.array([[[1, 2, 3], [4, 5, 6]], [[7, 8, 9], [10, 11, 12]]])\n",
    "\n",
    "\n",
    "\n",
    "get_array_shape(ar1)\n",
    "get_array_shape(ar2)\n",
    "get_array_shape(ar3)"
   ]
  },
  {
   "cell_type": "code",
   "execution_count": 5,
   "metadata": {},
   "outputs": [
    {
     "name": "stdout",
     "output_type": "stream",
     "text": [
      "szilva\n"
     ]
    }
   ],
   "source": [
    "# Készíts egy olyan függvényt, ami képes kiértékelni egy neurális háló eredményét! Bemenete két lista, az egyikben stringek a másikban floatok vannak. \n",
    "# Adja vissza azt az elemet, aminek a legnagyobb a valószínüsége(értéke) a listából.\n",
    "# Be: ['alma', 'körte', 'szilva'], [0.2, 0.2, 0.6]. # Az ['alma', 'körte', 'szilva'] egy lista!\n",
    "# Ki: 'szilva'\n",
    "# eval_classification()\n",
    "\n",
    "def eval_classification(string_ar : np.array, float_ar: np.array):\n",
    "    print(string_ar[np.argmax(float_ar)])\n",
    "\n",
    "fruits = np.array(['alma', 'körte', 'szilva'])\n",
    "vals =np.array([0.2, 0.2, 0.6])\n",
    "eval_classification(fruits,vals)"
   ]
  },
  {
   "cell_type": "code",
   "execution_count": 6,
   "metadata": {},
   "outputs": [
    {
     "data": {
      "text/plain": [
       "array([-1,  2, -1,  4, -1,  6])"
      ]
     },
     "execution_count": 6,
     "metadata": {},
     "output_type": "execute_result"
    }
   ],
   "source": [
    "# Készíts egy olyan függvényt, ahol az 1D array-ben a páratlan számokat -1-re cseréli\n",
    "# Be: [1,2,3,4,5,6]\n",
    "# Ki: [-1,2,-1,4,-1,6]\n",
    "# replace_odd_numbers()\n",
    "\n",
    "def replace_odd_numbers(in_array: np.array):\n",
    "    out_array = np.where(in_array%2!=0,-1, in_array)\n",
    "    return out_array\n",
    "\n",
    "ar1 = np.array([1,2,3,4,5,6])\n",
    "ar2 = replace_odd_numbers(ar1)\n",
    "ar2"
   ]
  },
  {
   "cell_type": "code",
   "execution_count": 7,
   "metadata": {},
   "outputs": [
    {
     "data": {
      "text/plain": [
       "array([-1,  1,  1, -1])"
      ]
     },
     "execution_count": 7,
     "metadata": {},
     "output_type": "execute_result"
    }
   ],
   "source": [
    "# Készíts egy olyan függvényt, ami egy array értékeit -1 és 1-re változtatja, attól függően, hogy az adott elem nagyobb vagy kisebb a paraméterként megadott számnál.\n",
    "# Ha a szám kisebb mint a megadott érték, akkor -1, ha nagyobb vagy egyenlő, akkor pedig 1.\n",
    "# Be: [1, 2, 5, 0], 2\n",
    "# Ki: [-1, 1, 1, -1]\n",
    "# replace_by_value()\n",
    "\n",
    "def replace_by_value(in_array: np.array, val : int):\n",
    "    out_array = in_array>=val\n",
    "    out_array = np.where(out_array==0, -1, out_array )\n",
    "    return out_array\n",
    "\n",
    "ar1 = np.array([1, 2, 5, 0])\n",
    "ar2 = replace_by_value(ar1,2)\n",
    "ar2"
   ]
  },
  {
   "cell_type": "code",
   "execution_count": 20,
   "metadata": {},
   "outputs": [
    {
     "data": {
      "text/plain": [
       "24"
      ]
     },
     "execution_count": 20,
     "metadata": {},
     "output_type": "execute_result"
    }
   ],
   "source": [
    "# Készíts egy olyan függvényt, ami egy array értékeit összeszorozza és az eredményt visszaadja\n",
    "# Be: [1,2,3,4]\n",
    "# Ki: 24\n",
    "# array_multi()\n",
    "# Ha több dimenziós a tömb, akkor az egész tömb elemeinek szorzatával térjen vissza\n",
    "\n",
    "def array_multi(in_array : np.array):\n",
    "    res = np.prod(in_array)\n",
    "    return res\n",
    "\n",
    "ar1 = np.array([1,2,3,4])\n",
    "result=array_multi(ar1)\n",
    "result"
   ]
  },
  {
   "cell_type": "code",
   "execution_count": 22,
   "metadata": {},
   "outputs": [
    {
     "data": {
      "text/plain": [
       "array([ 2, 12])"
      ]
     },
     "execution_count": 22,
     "metadata": {},
     "output_type": "execute_result"
    }
   ],
   "source": [
    "# Készíts egy olyan függvényt, ami egy 2D array értékeit összeszorozza és egy olyan array-el tér vissza, aminek az elemei a soroknak a szorzata\n",
    "# Be: [[1, 2], [3, 4]]\n",
    "# Ki: [2, 12]\n",
    "# array_multi_2d()\n",
    "\n",
    "def array_multi_2d(dd_array: np.array):\n",
    "    dim = len(np.shape(dd_array))\n",
    "    if dim < 3:\n",
    "        res_array = np.prod(dd_array,axis=1)\n",
    "    else:\n",
    "        print(\"Error: input array was not a 2D array!\")\n",
    "    return res_array\n",
    "\n",
    "ar1 = np.array([[1, 2], [3, 4]])\n",
    "ar2 = array_multi_2d(ar1)\n",
    "ar2"
   ]
  },
  {
   "cell_type": "code",
   "execution_count": 26,
   "metadata": {},
   "outputs": [
    {
     "data": {
      "text/plain": [
       "array([[0., 0., 0., 0.],\n",
       "       [0., 1., 2., 0.],\n",
       "       [0., 3., 4., 0.],\n",
       "       [0., 0., 0., 0.]])"
      ]
     },
     "execution_count": 26,
     "metadata": {},
     "output_type": "execute_result"
    }
   ],
   "source": [
    "# Készíts egy olyan függvényt, amit egy meglévő numpy array-hez készít egy bordert nullásokkal. Bementként egy array-t várjon és kimenetként egy array jelenjen meg aminek van border-je\n",
    "# Be: [[1,2],[3,4]]\n",
    "# Ki: [[0,0,0,0],[0,1,2,0],[0,3,4,0],[0,0,0,0]]\n",
    "# add_border()\n",
    "\n",
    "def add_border(in_array: np.array):\n",
    "    x, y = in_array.shape[0]+2, in_array.shape[1]+2\n",
    "    out_array = np.zeros((x,y))\n",
    "    out_array[1:x-1, 1:y-1] = in_array\n",
    "    return out_array\n",
    "\n",
    "ar1 = np.array([[1,2],[3,4]])\n",
    "ar2 = add_border(ar1)\n",
    "ar2"
   ]
  },
  {
   "cell_type": "code",
   "execution_count": 11,
   "metadata": {},
   "outputs": [],
   "source": [
    "# A KÖTVETKEZŐ FELADATOKHOZ NÉZZÉTEK MEG A NUMPY DATA TYPE-JÁT!"
   ]
  },
  {
   "cell_type": "code",
   "execution_count": 31,
   "metadata": {},
   "outputs": [
    {
     "name": "stdout",
     "output_type": "stream",
     "text": [
      "2023-09-22\n"
     ]
    }
   ],
   "source": [
    "# Írj egy fügvényt ami vissza adja az aktuális dátumot az alábbi formában: YYYY-MM-DD. Térjen vissza egy 'numpy.datetime64' típussal.\n",
    "# Be:\n",
    "# Ki: 2017-03-24\n",
    "# get_act_date()\n",
    "import datetime as dt\n",
    "\n",
    "def get_act_date():\n",
    "    now = np.datetime64(dt.date.today())\n",
    "    print(now)\n",
    "\n",
    "get_act_date()"
   ]
  },
  {
   "cell_type": "code",
   "execution_count": 40,
   "metadata": {},
   "outputs": [
    {
     "name": "stdout",
     "output_type": "stream",
     "text": [
      "1695417230\n"
     ]
    }
   ],
   "source": [
    "# Írj egy olyan függvényt ami visszadja, hogy mennyi másodperc telt el 1970 január 01. 00:02:00 óta. Int-el térjen vissza\n",
    "# Be: \n",
    "# Ki: másodpercben az idó, int-é kasztolva\n",
    "# sec_from_1970()\n",
    "\n",
    "def sec_from_1970():\n",
    "    epoch = dt.datetime(1970,1,1,0,2,0,0)\n",
    "    now = dt.datetime.now()\n",
    "    delta = round((now - epoch).total_seconds())\n",
    "    print(delta)\n",
    "\n",
    "sec_from_1970()"
   ]
  }
 ],
 "metadata": {
  "kernelspec": {
   "display_name": "Python 3",
   "language": "python",
   "name": "python3"
  },
  "language_info": {
   "codemirror_mode": {
    "name": "ipython",
    "version": 3
   },
   "file_extension": ".py",
   "mimetype": "text/x-python",
   "name": "python",
   "nbconvert_exporter": "python",
   "pygments_lexer": "ipython3",
   "version": "3.10.11"
  },
  "orig_nbformat": 4
 },
 "nbformat": 4,
 "nbformat_minor": 2
}
