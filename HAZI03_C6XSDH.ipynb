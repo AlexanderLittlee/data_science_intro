{
 "cells": [
  {
   "cell_type": "code",
   "execution_count": 5,
   "metadata": {},
   "outputs": [],
   "source": [
    "import pandas as pd\n",
    "import numpy as np\n",
    "import pandasql as ps"
   ]
  },
  {
   "cell_type": "code",
   "execution_count": 2,
   "metadata": {},
   "outputs": [
    {
     "name": "stdout",
     "output_type": "stream",
     "text": [
      "Collecting pandasql\n",
      "  Downloading pandasql-0.7.3.tar.gz (26 kB)\n",
      "  Preparing metadata (setup.py): started\n",
      "  Preparing metadata (setup.py): finished with status 'done'\n",
      "Requirement already satisfied: numpy in c:\\users\\yolom\\anaconda3\\envs\\projektmunka\\lib\\site-packages (from pandasql) (1.22.3)\n",
      "Requirement already satisfied: pandas in c:\\users\\yolom\\anaconda3\\envs\\projektmunka\\lib\\site-packages (from pandasql) (2.0.1)\n",
      "Collecting sqlalchemy\n",
      "  Downloading SQLAlchemy-2.0.21-cp310-cp310-win_amd64.whl (2.0 MB)\n",
      "     ---------------------------------------- 0.0/2.0 MB ? eta -:--:--\n",
      "     -- ------------------------------------- 0.1/2.0 MB 4.3 MB/s eta 0:00:01\n",
      "     ---- ----------------------------------- 0.2/2.0 MB 4.7 MB/s eta 0:00:01\n",
      "     -------- ------------------------------- 0.4/2.0 MB 3.4 MB/s eta 0:00:01\n",
      "     ------------ --------------------------- 0.6/2.0 MB 3.2 MB/s eta 0:00:01\n",
      "     --------------- ------------------------ 0.8/2.0 MB 3.2 MB/s eta 0:00:01\n",
      "     ------------------ --------------------- 0.9/2.0 MB 3.2 MB/s eta 0:00:01\n",
      "     -------------------- ------------------- 1.1/2.0 MB 3.2 MB/s eta 0:00:01\n",
      "     ----------------------- ---------------- 1.2/2.0 MB 3.1 MB/s eta 0:00:01\n",
      "     -------------------------- ------------- 1.3/2.0 MB 3.0 MB/s eta 0:00:01\n",
      "     ---------------------------- ----------- 1.5/2.0 MB 3.1 MB/s eta 0:00:01\n",
      "     -------------------------------- ------- 1.7/2.0 MB 3.0 MB/s eta 0:00:01\n",
      "     ----------------------------------- ---- 1.8/2.0 MB 3.0 MB/s eta 0:00:01\n",
      "     -------------------------------------- - 2.0/2.0 MB 3.0 MB/s eta 0:00:01\n",
      "     ---------------------------------------- 2.0/2.0 MB 3.0 MB/s eta 0:00:00\n",
      "Requirement already satisfied: pytz>=2020.1 in c:\\users\\yolom\\anaconda3\\envs\\projektmunka\\lib\\site-packages (from pandas->pandasql) (2022.7)\n",
      "Requirement already satisfied: tzdata>=2022.1 in c:\\users\\yolom\\anaconda3\\envs\\projektmunka\\lib\\site-packages (from pandas->pandasql) (2023.3)\n",
      "Requirement already satisfied: python-dateutil>=2.8.2 in c:\\users\\yolom\\anaconda3\\envs\\projektmunka\\lib\\site-packages (from pandas->pandasql) (2.8.2)\n",
      "Requirement already satisfied: typing-extensions>=4.2.0 in c:\\users\\yolom\\anaconda3\\envs\\projektmunka\\lib\\site-packages (from sqlalchemy->pandasql) (4.5.0)\n",
      "Collecting greenlet!=0.4.17\n",
      "  Downloading greenlet-2.0.2-cp310-cp310-win_amd64.whl (192 kB)\n",
      "     ---------------------------------------- 0.0/192.2 kB ? eta -:--:--\n",
      "     ------------------------------ ------- 153.6/192.2 kB 3.1 MB/s eta 0:00:01\n",
      "     -------------------------------------- 192.2/192.2 kB 2.9 MB/s eta 0:00:00\n",
      "Requirement already satisfied: six>=1.5 in c:\\users\\yolom\\anaconda3\\envs\\projektmunka\\lib\\site-packages (from python-dateutil>=2.8.2->pandas->pandasql) (1.16.0)\n",
      "Building wheels for collected packages: pandasql\n",
      "  Building wheel for pandasql (setup.py): started\n",
      "  Building wheel for pandasql (setup.py): finished with status 'done'\n",
      "  Created wheel for pandasql: filename=pandasql-0.7.3-py3-none-any.whl size=26800 sha256=eeb7edaa2eaa393fb22e3f9464d0574c03b70b3d53abee29dce29564ec1786fe\n",
      "  Stored in directory: c:\\users\\yolom\\appdata\\local\\pip\\cache\\wheels\\e9\\bc\\3a\\8434bdcccf5779e72894a9b24fecbdcaf97940607eaf4bcdf9\n",
      "Successfully built pandasql\n",
      "Installing collected packages: greenlet, sqlalchemy, pandasql\n",
      "Successfully installed greenlet-2.0.2 pandasql-0.7.3 sqlalchemy-2.0.21\n"
     ]
    }
   ],
   "source": [
    "!pip install pandasql\n"
   ]
  },
  {
   "cell_type": "code",
   "execution_count": 6,
   "metadata": {},
   "outputs": [],
   "source": [
    "data = {\n",
    "    'Név': ['Anna', 'Béla', 'Cecília', 'Dániel', 'Erika', 'Ferenc'],\n",
    "    'Kor': [20, 21, 22, 20, 19, 22],\n",
    "    'Tanulmányi átlag': [4.5, 3.9, 4.8, 3.4, 4.9, 4.0],\n",
    "    'Lakóhely': ['Budapest', 'Pécs', 'Debrecen', 'Szeged', 'Budapest', 'Győr']\n",
    "}\n",
    "\n",
    "df = pd.DataFrame(data)\n",
    "df.to_csv('diakok.csv')"
   ]
  },
  {
   "cell_type": "markdown",
   "metadata": {},
   "source": [
    "1. Melyik városból vannak a legtöbben a listán?  \n",
    "2. Készíts egy új oszlopot, amely a következőképpen kategorizálja a diákokat tanulmányi átlag alapján:  \n",
    "1-2: Gyenge  \n",
    "2-3: Elégséges  \n",
    "3-4: Közepes  \n",
    "4-5: Jó  \n",
    "5: Kiváló  \n",
    "3. Hány diák kapta a \"Jó\" vagy \"Kiváló\" kategorizációt?  \n",
    "4. Mely diákoknak van a \"név\" oszlopban magánhangzó az utolsó betű helyén?  \n",
    "5. Számítsd ki a diákok korának mediánját!  \n",
    "6. Szűrd le azokat a diákokat, akik 20 év alattiak és tanulmányi átlaguk meghaladja a 4.0-t!  "
   ]
  },
  {
   "cell_type": "code",
   "execution_count": 7,
   "metadata": {},
   "outputs": [],
   "source": [
    "hallgatok = pd.read_csv('diakok.csv')"
   ]
  },
  {
   "cell_type": "code",
   "execution_count": 10,
   "metadata": {},
   "outputs": [
    {
     "data": {
      "text/plain": [
       "'Budapest'"
      ]
     },
     "execution_count": 10,
     "metadata": {},
     "output_type": "execute_result"
    }
   ],
   "source": [
    "# 1. Melyik városból vannak a legtöbben a listán?\n",
    "\n",
    "hallgatok['Lakóhely'].value_counts().first_valid_index()"
   ]
  },
  {
   "cell_type": "code",
   "execution_count": 12,
   "metadata": {},
   "outputs": [],
   "source": [
    "# 2. Új oszlop a tanulmányi átlagok alapján\n",
    "\n",
    "feltetelek = [\n",
    "    (hallgatok['Tanulmányi átlag'] >= 1) & (hallgatok['Tanulmányi átlag'] < 2),\n",
    "    (hallgatok['Tanulmányi átlag'] >= 2) & (hallgatok['Tanulmányi átlag'] < 3),\n",
    "    (hallgatok['Tanulmányi átlag'] >= 3) & (hallgatok['Tanulmányi átlag'] < 4),\n",
    "    (hallgatok['Tanulmányi átlag'] >= 4) & (hallgatok['Tanulmányi átlag'] < 5),\n",
    "    (hallgatok['Tanulmányi átlag'] == 5)\n",
    "]\n",
    "\n",
    "kategoriak = ['Gyenge', 'Elégséges', 'Közepes', 'Jó', 'Kiváló']\n",
    "\n",
    "\n",
    "hallgatok['Kategoria'] = np.select(feltetelek, kategoriak, default=0)"
   ]
  },
  {
   "cell_type": "code",
   "execution_count": 24,
   "metadata": {},
   "outputs": [
    {
     "data": {
      "text/plain": [
       "4"
      ]
     },
     "execution_count": 24,
     "metadata": {},
     "output_type": "execute_result"
    }
   ],
   "source": [
    "# 3. Hányan \"jók\" vagy \"kiválók\"?\n",
    "\n",
    "hallgatok[hallgatok['Tanulmányi átlag']>=4].count()['Név']"
   ]
  },
  {
   "cell_type": "code",
   "execution_count": 25,
   "metadata": {},
   "outputs": [
    {
     "data": {
      "text/plain": [
       "20.5"
      ]
     },
     "execution_count": 25,
     "metadata": {},
     "output_type": "execute_result"
    }
   ],
   "source": [
    "# 4. Diákok korainak mediánja\n",
    "\n",
    "hallgatok['Kor'].median()"
   ]
  },
  {
   "cell_type": "code",
   "execution_count": 27,
   "metadata": {},
   "outputs": [
    {
     "data": {
      "text/html": [
       "<div>\n",
       "<style scoped>\n",
       "    .dataframe tbody tr th:only-of-type {\n",
       "        vertical-align: middle;\n",
       "    }\n",
       "\n",
       "    .dataframe tbody tr th {\n",
       "        vertical-align: top;\n",
       "    }\n",
       "\n",
       "    .dataframe thead th {\n",
       "        text-align: right;\n",
       "    }\n",
       "</style>\n",
       "<table border=\"1\" class=\"dataframe\">\n",
       "  <thead>\n",
       "    <tr style=\"text-align: right;\">\n",
       "      <th></th>\n",
       "      <th>Unnamed: 0</th>\n",
       "      <th>Név</th>\n",
       "      <th>Kor</th>\n",
       "      <th>Tanulmányi átlag</th>\n",
       "      <th>Lakóhely</th>\n",
       "      <th>Kategoria</th>\n",
       "    </tr>\n",
       "  </thead>\n",
       "  <tbody>\n",
       "    <tr>\n",
       "      <th>4</th>\n",
       "      <td>4</td>\n",
       "      <td>Erika</td>\n",
       "      <td>19</td>\n",
       "      <td>4.9</td>\n",
       "      <td>Budapest</td>\n",
       "      <td>Jó</td>\n",
       "    </tr>\n",
       "  </tbody>\n",
       "</table>\n",
       "</div>"
      ],
      "text/plain": [
       "   Unnamed: 0    Név  Kor  Tanulmányi átlag  Lakóhely Kategoria\n",
       "4           4  Erika   19               4.9  Budapest        Jó"
      ]
     },
     "execution_count": 27,
     "metadata": {},
     "output_type": "execute_result"
    }
   ],
   "source": [
    "# 5. 20 év alattiak 4.0 átlag felett\n",
    "\n",
    "\n",
    "hallgatok[(hallgatok['Tanulmányi átlag']>=4) & (hallgatok['Kor']<20)]"
   ]
  },
  {
   "cell_type": "code",
   "execution_count": null,
   "metadata": {},
   "outputs": [],
   "source": []
  }
 ],
 "metadata": {
  "kernelspec": {
   "display_name": "projektmunka",
   "language": "python",
   "name": "python3"
  },
  "language_info": {
   "codemirror_mode": {
    "name": "ipython",
    "version": 3
   },
   "file_extension": ".py",
   "mimetype": "text/x-python",
   "name": "python",
   "nbconvert_exporter": "python",
   "pygments_lexer": "ipython3",
   "version": "3.10.11"
  },
  "orig_nbformat": 4
 },
 "nbformat": 4,
 "nbformat_minor": 2
}
