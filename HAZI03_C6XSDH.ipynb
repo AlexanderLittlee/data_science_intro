{
 "cells": [
  {
   "cell_type": "code",
   "execution_count": 1,
   "metadata": {},
   "outputs": [],
   "source": [
    "import pandas as pd\n",
    "import numpy as np\n",
    "import pandasql as ps"
   ]
  },
  {
   "cell_type": "code",
   "execution_count": 2,
   "metadata": {},
   "outputs": [],
   "source": [
    "data = {\n",
    "    'Név': ['Anna', 'Béla', 'Cecília', 'Dániel', 'Erika', 'Ferenc'],\n",
    "    'Kor': [20, 21, 22, 20, 19, 22],\n",
    "    'Tanulmányi átlag': [4.5, 3.9, 4.8, 3.4, 4.9, 4.0],\n",
    "    'Lakóhely': ['Budapest', 'Pécs', 'Debrecen', 'Szeged', 'Budapest', 'Győr']\n",
    "}\n",
    "\n",
    "df = pd.DataFrame(data)\n",
    "df.to_csv('diakok.csv')"
   ]
  },
  {
   "cell_type": "markdown",
   "metadata": {},
   "source": [
    "1. Melyik városból vannak a legtöbben a listán?  \n",
    "2. Készíts egy új oszlopot, amely a következőképpen kategorizálja a diákokat tanulmányi átlag alapján:  \n",
    "1-2: Gyenge  \n",
    "2-3: Elégséges  \n",
    "3-4: Közepes  \n",
    "4-5: Jó  \n",
    "5: Kiváló  \n",
    "3. Hány diák kapta a \"Jó\" vagy \"Kiváló\" kategorizációt?  \n",
    "4. Mely diákoknak van a \"név\" oszlopban magánhangzó az utolsó betű helyén?  \n",
    "5. Számítsd ki a diákok korának mediánját!  \n",
    "6. Szűrd le azokat a diákokat, akik 20 év alattiak és tanulmányi átlaguk meghaladja a 4.0-t!  "
   ]
  },
  {
   "cell_type": "code",
   "execution_count": 3,
   "metadata": {},
   "outputs": [],
   "source": [
    "hallgatok = pd.read_csv('diakok.csv')"
   ]
  },
  {
   "cell_type": "code",
   "execution_count": 4,
   "metadata": {},
   "outputs": [
    {
     "data": {
      "text/plain": [
       "'Budapest'"
      ]
     },
     "execution_count": 4,
     "metadata": {},
     "output_type": "execute_result"
    }
   ],
   "source": [
    "# 1. Melyik városból vannak a legtöbben a listán?\n",
    "\n",
    "hallgatok['Lakóhely'].value_counts().first_valid_index()"
   ]
  },
  {
   "cell_type": "code",
   "execution_count": 6,
   "metadata": {},
   "outputs": [],
   "source": [
    "# 2. Új oszlop a tanulmányi átlagok alapján\n",
    "\n",
    "feltetelek = [\n",
    "    (hallgatok['Tanulmányi átlag'] >= 1) & (hallgatok['Tanulmányi átlag'] < 2),\n",
    "    (hallgatok['Tanulmányi átlag'] >= 2) & (hallgatok['Tanulmányi átlag'] < 3),\n",
    "    (hallgatok['Tanulmányi átlag'] >= 3) & (hallgatok['Tanulmányi átlag'] < 4),\n",
    "    (hallgatok['Tanulmányi átlag'] >= 4) & (hallgatok['Tanulmányi átlag'] < 5),\n",
    "    (hallgatok['Tanulmányi átlag'] == 5)\n",
    "]\n",
    "\n",
    "kategoriak = ['Gyenge', 'Elégséges', 'Közepes', 'Jó', 'Kiváló']\n",
    "\n",
    "\n",
    "hallgatok['Kategoria'] = np.select(feltetelek, kategoriak, default=0)"
   ]
  },
  {
   "cell_type": "code",
   "execution_count": 17,
   "metadata": {},
   "outputs": [
    {
     "data": {
      "text/html": [
       "<div>\n",
       "<style scoped>\n",
       "    .dataframe tbody tr th:only-of-type {\n",
       "        vertical-align: middle;\n",
       "    }\n",
       "\n",
       "    .dataframe tbody tr th {\n",
       "        vertical-align: top;\n",
       "    }\n",
       "\n",
       "    .dataframe thead th {\n",
       "        text-align: right;\n",
       "    }\n",
       "</style>\n",
       "<table border=\"1\" class=\"dataframe\">\n",
       "  <thead>\n",
       "    <tr style=\"text-align: right;\">\n",
       "      <th></th>\n",
       "      <th>Unnamed: 0</th>\n",
       "      <th>Név</th>\n",
       "      <th>Kor</th>\n",
       "      <th>Tanulmányi átlag</th>\n",
       "      <th>Lakóhely</th>\n",
       "      <th>Kategoria</th>\n",
       "    </tr>\n",
       "  </thead>\n",
       "  <tbody>\n",
       "    <tr>\n",
       "      <th>0</th>\n",
       "      <td>0</td>\n",
       "      <td>Anna</td>\n",
       "      <td>20</td>\n",
       "      <td>4.5</td>\n",
       "      <td>Budapest</td>\n",
       "      <td>Jó</td>\n",
       "    </tr>\n",
       "    <tr>\n",
       "      <th>1</th>\n",
       "      <td>1</td>\n",
       "      <td>Béla</td>\n",
       "      <td>21</td>\n",
       "      <td>3.9</td>\n",
       "      <td>Pécs</td>\n",
       "      <td>Közepes</td>\n",
       "    </tr>\n",
       "    <tr>\n",
       "      <th>2</th>\n",
       "      <td>2</td>\n",
       "      <td>Cecília</td>\n",
       "      <td>22</td>\n",
       "      <td>4.8</td>\n",
       "      <td>Debrecen</td>\n",
       "      <td>Jó</td>\n",
       "    </tr>\n",
       "    <tr>\n",
       "      <th>4</th>\n",
       "      <td>4</td>\n",
       "      <td>Erika</td>\n",
       "      <td>19</td>\n",
       "      <td>4.9</td>\n",
       "      <td>Budapest</td>\n",
       "      <td>Jó</td>\n",
       "    </tr>\n",
       "  </tbody>\n",
       "</table>\n",
       "</div>"
      ],
      "text/plain": [
       "   Unnamed: 0      Név  Kor  Tanulmányi átlag  Lakóhely Kategoria\n",
       "0           0     Anna   20               4.5  Budapest        Jó\n",
       "1           1     Béla   21               3.9      Pécs   Közepes\n",
       "2           2  Cecília   22               4.8  Debrecen        Jó\n",
       "4           4    Erika   19               4.9  Budapest        Jó"
      ]
     },
     "execution_count": 17,
     "metadata": {},
     "output_type": "execute_result"
    }
   ],
   "source": [
    "# 3. Mely diákoknak van a \"név\" oszlopban magánhangzó az utolsó betű helyén?\n",
    "\n",
    "maganhangzok = ['a', 'á', 'e', 'é', 'i', 'í', 'o', 'ó', 'ö', 'ő', 'u', 'ú', 'ü', 'ű']\n",
    "\n",
    "hallgatok[hallgatok['Név'].str[-1].str.lower().isin(maganhangzok)]"
   ]
  },
  {
   "cell_type": "code",
   "execution_count": 8,
   "metadata": {},
   "outputs": [
    {
     "data": {
      "text/plain": [
       "4"
      ]
     },
     "execution_count": 8,
     "metadata": {},
     "output_type": "execute_result"
    }
   ],
   "source": [
    "# 4. Hányan \"jók\" vagy \"kiválók\"?\n",
    "\n",
    "hallgatok[hallgatok['Tanulmányi átlag']>=4].count()['Név']"
   ]
  },
  {
   "cell_type": "code",
   "execution_count": 9,
   "metadata": {},
   "outputs": [
    {
     "data": {
      "text/plain": [
       "20.5"
      ]
     },
     "execution_count": 9,
     "metadata": {},
     "output_type": "execute_result"
    }
   ],
   "source": [
    "# 5. Diákok korainak mediánja\n",
    "\n",
    "hallgatok['Kor'].median()"
   ]
  },
  {
   "cell_type": "code",
   "execution_count": 16,
   "metadata": {},
   "outputs": [
    {
     "data": {
      "text/html": [
       "<div>\n",
       "<style scoped>\n",
       "    .dataframe tbody tr th:only-of-type {\n",
       "        vertical-align: middle;\n",
       "    }\n",
       "\n",
       "    .dataframe tbody tr th {\n",
       "        vertical-align: top;\n",
       "    }\n",
       "\n",
       "    .dataframe thead th {\n",
       "        text-align: right;\n",
       "    }\n",
       "</style>\n",
       "<table border=\"1\" class=\"dataframe\">\n",
       "  <thead>\n",
       "    <tr style=\"text-align: right;\">\n",
       "      <th></th>\n",
       "      <th>Unnamed: 0</th>\n",
       "      <th>Név</th>\n",
       "      <th>Kor</th>\n",
       "      <th>Tanulmányi átlag</th>\n",
       "      <th>Lakóhely</th>\n",
       "      <th>Kategoria</th>\n",
       "    </tr>\n",
       "  </thead>\n",
       "  <tbody>\n",
       "    <tr>\n",
       "      <th>4</th>\n",
       "      <td>4</td>\n",
       "      <td>Erika</td>\n",
       "      <td>19</td>\n",
       "      <td>4.9</td>\n",
       "      <td>Budapest</td>\n",
       "      <td>Jó</td>\n",
       "    </tr>\n",
       "  </tbody>\n",
       "</table>\n",
       "</div>"
      ],
      "text/plain": [
       "   Unnamed: 0    Név  Kor  Tanulmányi átlag  Lakóhely Kategoria\n",
       "4           4  Erika   19               4.9  Budapest        Jó"
      ]
     },
     "execution_count": 16,
     "metadata": {},
     "output_type": "execute_result"
    }
   ],
   "source": [
    "# 6. 20 év alattiak 4.0 átlag felett\n",
    "\n",
    "\n",
    "hallgatok[(hallgatok['Tanulmányi átlag']>=4) & (hallgatok['Kor']<20)]"
   ]
  },
  {
   "cell_type": "code",
   "execution_count": null,
   "metadata": {},
   "outputs": [],
   "source": []
  }
 ],
 "metadata": {
  "kernelspec": {
   "display_name": "projektmunka",
   "language": "python",
   "name": "python3"
  },
  "language_info": {
   "codemirror_mode": {
    "name": "ipython",
    "version": 3
   },
   "file_extension": ".py",
   "mimetype": "text/x-python",
   "name": "python",
   "nbconvert_exporter": "python",
   "pygments_lexer": "ipython3",
   "version": "3.10.11"
  },
  "orig_nbformat": 4
 },
 "nbformat": 4,
 "nbformat_minor": 2
}
